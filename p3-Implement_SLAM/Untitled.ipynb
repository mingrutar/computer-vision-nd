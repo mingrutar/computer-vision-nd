{
 "cells": [
  {
   "cell_type": "code",
   "execution_count": 1,
   "metadata": {},
   "outputs": [],
   "source": [
    "% load_ext autoreload\n",
    "% autoreload 2\n",
    "\n",
    "import numpy as np\n",
    "from helpers import make_data, display_world, display_world_2"
   ]
  },
  {
   "cell_type": "code",
   "execution_count": 2,
   "metadata": {},
   "outputs": [],
   "source": [
    "num_landmarks      = 1        # number of landmarks\n",
    "N                  = 2       # time steps\n",
    "world_size         = 20.0    # size of world (square)\n",
    "\n",
    "# robot parameters\n",
    "measurement_range  = 10.0     # range at which we can sense landmarks\n",
    "motion_noise       = 0.0      # noise in robot motion\n",
    "measurement_noise  = 0.0      # noise in the measurements\n",
    "distance           = 5.0     # distance by which robot (intends to) move each iteratation \n",
    "\n",
    "data = [[[[0, 2.0, 1.0]], [-4, 3]], [[[0, -2.0, 4.0]], []]]\n",
    "# motion 10,10 =>6.00000,13.00000, lmark=8,9"
   ]
  },
  {
   "cell_type": "code",
   "execution_count": 3,
   "metadata": {},
   "outputs": [],
   "source": [
    "def initialize_constraints_1(N, num_landmarks, world_size):\n",
    "    n = N + num_landmarks\n",
    "    new_omega = np.zeros((n, n))\n",
    "    new_omega[0][0] = 1\n",
    "    ## TODO: Define the constraint *vector*, xi\n",
    "    ## you can assume that the robot starts out in the middle of the world with 100% confidence\n",
    "    new_xi = np.zeros((n, 1))\n",
    "    new_xi[0] = world_size/2\n",
    "    return new_omega, new_xi   "
   ]
  },
  {
   "cell_type": "code",
   "execution_count": 18,
   "metadata": {},
   "outputs": [],
   "source": [
    "def update_motion(midx, delta, omega, xi, motion_noise):\n",
    "    conf = 1.0/motion_noise if motion_noise else 1.0\n",
    "    omega[midx][midx] += conf      # omega for motion x\n",
    "    omega[midx][midx+1] += -conf\n",
    "    omega[midx+1][midx] += -conf\n",
    "    omega[midx+1][midx+1] += conf          # omega for motion x\n",
    "\n",
    "    xi[midx] -= delta    #\n",
    "    xi[midx+1] += delta\n",
    "\n",
    "def update_landmark(midx, lidx, delta, omega, xi, measurement_noise):\n",
    "    conf = 1.0/measurement_noise if measurement_noise else 1.0\n",
    "    print('update_landmark', midx, lidx, delta,conf)\n",
    "    omega[midx][midx] += conf\n",
    "    omega[midx][lidx] += -conf\n",
    "    omega[lidx][midx] += -conf\n",
    "    omega[lidx][lidx] += conf\n",
    "    \n",
    "    xi[midx] -= delta              # ? + measurement_noise??\n",
    "    xi[lidx] += delta              #\n",
    "    \n",
    "def mu_from_positions(omega, xi, move_lm, motion_noise=0.0, measurement_noise=0.0):\n",
    "    n_disp = len(move_lm)\n",
    "    for i, m in enumerate(move_lm):\n",
    "        if m[0]:\n",
    "            update_motion(i, m[0], omega, xi, motion_noise)\n",
    "        print('mv', m[0], xi)\n",
    "        for lm in m[1]:\n",
    "            update_landmark(i, lm[0]+n_disp, lm[1], omega, xi, measurement_noise)\n",
    "            print('lm',i, lm[1], xi)\n",
    "            \n",
    "    print(omega, xi)\n",
    "    omega_inv = np.linalg.inv(np.matrix(omega))\n",
    "    mu = omega_inv*xi\n",
    "    return mu\n"
   ]
  },
  {
   "cell_type": "code",
   "execution_count": 19,
   "metadata": {
    "scrolled": true
   },
   "outputs": [
    {
     "name": "stdout",
     "output_type": "stream",
     "text": [
      "mv 5 [[-8.]\n",
      " [ 5.]\n",
      " [ 0.]\n",
      " [ 0.]]\n",
      "update_landmark 0 3 10 1.0\n",
      "lm 0 10 [[-18.]\n",
      " [  5.]\n",
      " [  0.]\n",
      " [ 10.]]\n",
      "mv 3 [[-18.]\n",
      " [  2.]\n",
      " [  3.]\n",
      " [ 10.]]\n",
      "update_landmark 1 3 5 1.0\n",
      "lm 1 5 [[-18.]\n",
      " [ -3.]\n",
      " [  3.]\n",
      " [ 15.]]\n",
      "mv None [[-18.]\n",
      " [ -3.]\n",
      " [  3.]\n",
      " [ 15.]]\n",
      "update_landmark 2 3 2 1.0\n",
      "lm 2 2 [[-18.]\n",
      " [ -3.]\n",
      " [  1.]\n",
      " [ 17.]]\n",
      "[[ 3. -1.  0. -1.]\n",
      " [-1.  3. -1. -1.]\n",
      " [ 0. -1.  2. -1.]\n",
      " [-1. -1. -1.  3.]] [[-18.]\n",
      " [ -3.]\n",
      " [  1.]\n",
      " [ 17.]]\n"
     ]
    },
    {
     "data": {
      "text/plain": [
       "matrix([[-3.],\n",
       "        [ 2.],\n",
       "        [ 5.],\n",
       "        [ 7.]])"
      ]
     },
     "execution_count": 19,
     "metadata": {},
     "output_type": "execute_result"
    }
   ],
   "source": [
    "n = 4      # 3 pos and 1 lm\n",
    "omega_t = np.zeros((n, n))\n",
    "omega_t[0][0] = 1\n",
    "xi_t = np.zeros((n, 1))\n",
    "xi_t[0] = -3\n",
    "mv_lm = [[5, [(0,10)]], [3, [(0,5)]], [None, [(0, 2)]]]\n",
    "mu_from_positions(omega_t, xi_t, mv_lm)  # see '2_2. Include Landmarks, solution.ipynb', (-3, 5, 3, 10, 5, 2)"
   ]
  },
  {
   "cell_type": "code",
   "execution_count": 63,
   "metadata": {},
   "outputs": [],
   "source": [
    "def slam(data, N, num_landmarks, world_size, motion_noise, measurement_noise):\n",
    "    x_omega, x_xi = initialize_constraints_1(N, num_landmarks, world_size)\n",
    "    y_omega, y_xi = initialize_constraints_1(N, num_landmarks, world_size)\n",
    "    x_list, y_list = [], []   # [move, [list_lm]] on an axis  \n",
    "    for i in range(len(data)):\n",
    "        x_move = data[i][1][0] if data[i][1] else None\n",
    "        y_move = data[i][1][1] if data[i][1] else None\n",
    "        lm_x, lm_y = [], []\n",
    "        for m_lm in data[i][0]:\n",
    "            lm_x.append((m_lm[0], m_lm[1]))\n",
    "            lm_y.append((m_lm[0], m_lm[2]))\n",
    "        x_list.append((x_move, lm_x))\n",
    "        y_list.append((y_move, lm_y))\n",
    "    print(x_list, y_list)\n",
    "    mu_x = mu_from_positions(x_omega, x_xi, x_list)\n",
    "    mu_y = mu_from_positions(y_omega, y_xi, y_list)\n",
    "    mu_x_a = np.squeeze(np.asarray(mu_x))\n",
    "    mu_y_a = np.squeeze(np.asarray(mu_y))\n",
    "#     print('mu_x:', type(mu_x_a), mu_x_a, '\\nmu_y:',  mu_y_a.shape,mu_y_a)\n",
    "#     return list(zip(mu_x_a.tolist(), mu_y_a.tolist()))\n",
    "    return np.array([[mu_x_a[i], mu_y_a[i]] for i in range(len(mu_x_a))])\n"
   ]
  },
  {
   "cell_type": "code",
   "execution_count": 64,
   "metadata": {},
   "outputs": [
    {
     "name": "stdout",
     "output_type": "stream",
     "text": [
      "[(-4, [(0, 2.0)]), (None, [(0, -2.0)])] [(3, [(0, 1.0)]), (None, [(0, 4.0)])]\n",
      "mv -4 [[ 14.]\n",
      " [ -4.]\n",
      " [  0.]]\n",
      "update_landmark 0 2 2.0 1.0\n",
      "lm 0 2.0 [[ 12.]\n",
      " [ -4.]\n",
      " [  2.]]\n",
      "mv None [[ 12.]\n",
      " [ -4.]\n",
      " [  2.]]\n",
      "update_landmark 1 2 -2.0 1.0\n",
      "lm 1 -2.0 [[ 12.]\n",
      " [ -2.]\n",
      " [  0.]]\n",
      "[[ 3. -1. -1.]\n",
      " [-1.  2. -1.]\n",
      " [-1. -1.  2.]] [[ 12.]\n",
      " [ -2.]\n",
      " [  0.]]\n",
      "mv 3 [[ 7.]\n",
      " [ 3.]\n",
      " [ 0.]]\n",
      "update_landmark 0 2 1.0 1.0\n",
      "lm 0 1.0 [[ 6.]\n",
      " [ 3.]\n",
      " [ 1.]]\n",
      "mv None [[ 6.]\n",
      " [ 3.]\n",
      " [ 1.]]\n",
      "update_landmark 1 2 4.0 1.0\n",
      "lm 1 4.0 [[ 6.]\n",
      " [-1.]\n",
      " [ 5.]]\n",
      "[[ 3. -1. -1.]\n",
      " [-1.  2. -1.]\n",
      " [-1. -1.  2.]] [[ 6.]\n",
      " [-1.]\n",
      " [ 5.]]\n"
     ]
    },
    {
     "data": {
      "text/plain": [
       "array([[ 10.        ,  10.        ],\n",
       "       [  8.66666667,  11.        ],\n",
       "       [  9.33333333,  13.        ]])"
      ]
     },
     "execution_count": 64,
     "metadata": {},
     "output_type": "execute_result"
    }
   ],
   "source": [
    "data = [[[[0, 2.0, 1.0]], [-4, 3]], [[[0, -2.0, 4.0]], []]]\n",
    "slam(data, N, 1, 20, 0.0, 0.0)"
   ]
  }
 ],
 "metadata": {
  "kernelspec": {
   "display_name": "Python 3",
   "language": "python",
   "name": "python3"
  },
  "language_info": {
   "codemirror_mode": {
    "name": "ipython",
    "version": 3
   },
   "file_extension": ".py",
   "mimetype": "text/x-python",
   "name": "python",
   "nbconvert_exporter": "python",
   "pygments_lexer": "ipython3",
   "version": "3.6.5"
  }
 },
 "nbformat": 4,
 "nbformat_minor": 2
}
