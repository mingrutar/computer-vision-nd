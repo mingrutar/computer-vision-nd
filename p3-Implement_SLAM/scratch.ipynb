{
 "cells": [
  {
   "cell_type": "code",
   "execution_count": 1,
   "metadata": {},
   "outputs": [],
   "source": [
    "% load_ext autoreload\n",
    "% autoreload 2\n",
    "\n",
    "import numpy as np\n",
    "from helpers import make_data, display_world, display_world_2"
   ]
  },
  {
   "cell_type": "code",
   "execution_count": 2,
   "metadata": {
    "scrolled": true
   },
   "outputs": [],
   "source": [
    "# world parameters\n",
    "num_landmarks      = 1        # number of landmarks\n",
    "N                  = 2       # time steps\n",
    "world_size         = 20.0    # size of world (square)\n",
    "\n",
    "# robot parameters\n",
    "measurement_range  = 10.0     # range at which we can sense landmarks\n",
    "motion_noise       = 0.0      # noise in robot motion\n",
    "measurement_noise  = 0.0      # noise in the measurements\n",
    "distance           = 5.0     # distance by which robot (intends to) move each iteratation \n"
   ]
  },
  {
   "cell_type": "code",
   "execution_count": 3,
   "metadata": {
    "scrolled": false
   },
   "outputs": [
    {
     "name": "stdout",
     "output_type": "stream",
     "text": [
      "sense: x,y= 10.0 10.0 lm= 8 9 dx,dy= 2.0 1.0\n",
      "make_data: robot.x,y=(10.0,10.0), dx,dy=(-4,3), Z=[[0, 2.0, 1.0]]\n",
      "make_data: complete True\n",
      "sense: x,y= 6.0 13.0 lm= 8 9 dx,dy= -2.0 4.0\n"
     ]
    },
    {
     "data": {
      "text/plain": [
       "[[[[0, 2.0, 1.0]], [-4, 3]], [[[0, -2.0, 4.0]], []]]"
      ]
     },
     "execution_count": 3,
     "metadata": {},
     "output_type": "execute_result"
    }
   ],
   "source": [
    "my_data, mybot = make_data(N, num_landmarks, world_size, measurement_range, motion_noise, measurement_noise, distance)\n",
    "my_data"
   ]
  },
  {
   "cell_type": "code",
   "execution_count": 4,
   "metadata": {
    "scrolled": true
   },
   "outputs": [
    {
     "data": {
      "text/plain": [
       "([[8, 9]], Robot: [x=6.00000 y=13.00000], 2)"
      ]
     },
     "execution_count": 4,
     "metadata": {},
     "output_type": "execute_result"
    }
   ],
   "source": [
    "mybot.landmarks, mybot, len(my_data)"
   ]
  },
  {
   "cell_type": "code",
   "execution_count": 5,
   "metadata": {
    "scrolled": false
   },
   "outputs": [
    {
     "name": "stdout",
     "output_type": "stream",
     "text": [
      "display_world_2, lm= 8 9\n"
     ]
    },
    {
     "data": {
      "image/png": "[encoded data removed]",
      "text/plain": [
       "<matplotlib.figure.Figure at 0x7fc145888ef0>"
      ]
     },
     "metadata": {},
     "output_type": "display_data"
    }
   ],
   "source": [
    "pos_list = [[world_size/2.0, world_size/2.0]]\n",
    "for di in my_data:\n",
    "    if di[1]:\n",
    "        pidx = len(pos_list)-1\n",
    "        nx = pos_list[pidx][0]+di[1][0]\n",
    "        ny = pos_list[pidx][1]+di[1][1]\n",
    "        pos_list.append([nx, ny])\n",
    "display_world_2(int(world_size), pos_list, mybot.landmarks)"
   ]
  },
  {
   "cell_type": "code",
   "execution_count": 6,
   "metadata": {},
   "outputs": [],
   "source": [
    "def initialize_constraints(N, num_landmarks, world_size):\n",
    "    ''' This function takes in a number of time steps N, number of landmarks, and a world_size,\n",
    "        and returns initialized constraint matrices, omega and xi.'''\n",
    "    \n",
    "    ## Recommended: Define and store the size (rows/cols) of the constraint matrix in a variable\n",
    "    \n",
    "    ## TODO: Define the constraint matrix, Omega, with two initial \"strength\" values\n",
    "    ## for the initial x, y location of our robot\n",
    "    n = 2*(N + num_landmarks)\n",
    "    omega = np.zeros((n, n))\n",
    "    for i in range(2):\n",
    "        omega[i][i] = 1\n",
    "    ## TODO: Define the constraint *vector*, xi\n",
    "    ## you can assume that the robot starts out in the middle of the world with 100% confidence\n",
    "    xi = np.zeros((n, 1))\n",
    "    xi[0] = xi[1] = world_size/2\n",
    "    return omega, xi\n",
    "    "
   ]
  },
  {
   "cell_type": "code",
   "execution_count": 7,
   "metadata": {},
   "outputs": [
    {
     "data": {
      "text/plain": [
       "(array([[ 1.,  0.,  0.,  0.,  0.,  0.],\n",
       "        [ 0.,  1.,  0.,  0.,  0.,  0.],\n",
       "        [ 0.,  0.,  0.,  0.,  0.,  0.],\n",
       "        [ 0.,  0.,  0.,  0.,  0.,  0.],\n",
       "        [ 0.,  0.,  0.,  0.,  0.,  0.],\n",
       "        [ 0.,  0.,  0.,  0.,  0.,  0.]]), array([[ 10.],\n",
       "        [ 10.],\n",
       "        [  0.],\n",
       "        [  0.],\n",
       "        [  0.],\n",
       "        [  0.]]))"
      ]
     },
     "execution_count": 7,
     "metadata": {},
     "output_type": "execute_result"
    }
   ],
   "source": [
    "omega, xi = initialize_constraints(N, num_landmarks, world_size)\n",
    "omega, xi "
   ]
  },
  {
   "cell_type": "code",
   "execution_count": 8,
   "metadata": {},
   "outputs": [
    {
     "name": "stdout",
     "output_type": "stream",
     "text": [
      "move1= [-4, 3]\n"
     ]
    },
    {
     "data": {
      "text/plain": [
       "(array([[ 2.,  0., -1.,  0.,  0.,  0.],\n",
       "        [ 0.,  2.,  0., -1.,  0.,  0.],\n",
       "        [-1.,  0.,  1.,  0.,  0.,  0.],\n",
       "        [ 0., -1.,  0.,  1.,  0.,  0.],\n",
       "        [ 0.,  0.,  0.,  0.,  0.,  0.],\n",
       "        [ 0.,  0.,  0.,  0.,  0.,  0.]]), array([[ 14.],\n",
       "        [  7.],\n",
       "        [ -4.],\n",
       "        [  3.],\n",
       "        [  0.],\n",
       "        [  0.]]))"
      ]
     },
     "execution_count": 8,
     "metadata": {},
     "output_type": "execute_result"
    }
   ],
   "source": [
    "# update x\n",
    "move1 = my_data[0][1]             #[-1, -5]\n",
    "print('move1=', move1)\n",
    "omega +=[[1, 0, -1, 0, 0, 0],\n",
    "         [0, 0, 0, 0, 0, 0],\n",
    "         [-1, 0, 1, 0, 0, 0],\n",
    "         [0, 0, 0, 0, 0, 0],\n",
    "         [0, 0, 0, 0, 0, 0],\n",
    "         [0, 0, 0, 0, 0, 0]]\n",
    "xi += [[-move1[0]],\n",
    "       [0],\n",
    "       [move1[0]],\n",
    "       [0],\n",
    "       [0],\n",
    "       [0]]\n",
    "# update y [-1, -5]\n",
    "omega +=[[0, 0, 0, 0, 0, 0],\n",
    "         [0, 1, 0, -1, 0, 0],\n",
    "         [0, 0, 0, 0, 0, 0],\n",
    "         [0, -1,0, 1, 0, 0],\n",
    "         [0, 0, 0, 0, 0, 0],\n",
    "         [0, 0, 0, 0, 0, 0]]\n",
    "xi += [[0],\n",
    "       [-move1[1]],\n",
    "       [0],\n",
    "       [move1[1]],\n",
    "       [0],\n",
    "       [0]]\n",
    "omega, xi \n"
   ]
  },
  {
   "cell_type": "code",
   "execution_count": 9,
   "metadata": {},
   "outputs": [
    {
     "data": {
      "text/plain": [
       "[2.0, 1.0]"
      ]
     },
     "execution_count": 9,
     "metadata": {},
     "output_type": "execute_result"
    }
   ],
   "source": [
    "# update lanmark, Z0 = \n",
    "z_all = []\n",
    "for dt in my_data:\n",
    "    z_list = {}\n",
    "    for lml in dt[0]:\n",
    "        j = lml[0]\n",
    "        Z = [lml[1], lml[2]]\n",
    "        z_list[j]=Z\n",
    "    z_all.append(z_list)\n",
    "z_all\n",
    "midx = 0\n",
    "zidx = 0\n",
    "Z0 = z_all[midx][zidx]\n",
    "Z0"
   ]
  },
  {
   "cell_type": "code",
   "execution_count": 10,
   "metadata": {},
   "outputs": [
    {
     "name": "stdout",
     "output_type": "stream",
     "text": [
      "Z0= [2.0, 1.0]\n"
     ]
    },
    {
     "data": {
      "text/plain": [
       "(array([[ 3.,  0., -1.,  0., -1.,  0.],\n",
       "        [ 0.,  3.,  0., -1.,  0., -1.],\n",
       "        [-1.,  0.,  1.,  0.,  0.,  0.],\n",
       "        [ 0., -1.,  0.,  1.,  0.,  0.],\n",
       "        [-1.,  0.,  0.,  0.,  1.,  0.],\n",
       "        [ 0., -1.,  0.,  0.,  0.,  1.]]), array([[ 12.],\n",
       "        [  6.],\n",
       "        [ -4.],\n",
       "        [  3.],\n",
       "        [  2.],\n",
       "        [  1.]]))"
      ]
     },
     "execution_count": 10,
     "metadata": {},
     "output_type": "execute_result"
    }
   ],
   "source": [
    "# update Z0 x\n",
    "print('Z0=', Z0)\n",
    "omega +=[[1, 0, 0, 0, -1, 0],\n",
    "         [0, 0, 0, 0, 0, 0],\n",
    "         [0, 0, 0, 0, 0, 0],\n",
    "         [0, 0, 0, 0, 0, 0],\n",
    "         [-1, 0, 0, 0, 1, 0],\n",
    "         [0, 0, 0, 0, 0, 0]]\n",
    "xi += [[-Z0[0]],\n",
    "       [0],\n",
    "       [0],\n",
    "       [0],\n",
    "       [Z0[0]],\n",
    "       [0]]\n",
    "# update Z0 y\n",
    "omega +=[[0, 0, 0, 0, 0, 0],\n",
    "         [0, 1, 0, 0, 0, -1],\n",
    "         [0, 0, 0, 0, 0, 0],\n",
    "         [0, 0, 0, 0, 0, 0],\n",
    "         [0, 0, 0, 0, 0, 0],\n",
    "         [0, -1, 0, 0, 0, 1]]\n",
    "xi += [[0],\n",
    "       [-Z0[1]],\n",
    "       [0],\n",
    "       [0],\n",
    "       [0],\n",
    "       [Z0[1]]]\n",
    "omega, xi \n"
   ]
  },
  {
   "cell_type": "code",
   "execution_count": 11,
   "metadata": {},
   "outputs": [
    {
     "data": {
      "text/plain": [
       "[-2.0, 4.0]"
      ]
     },
     "execution_count": 11,
     "metadata": {},
     "output_type": "execute_result"
    }
   ],
   "source": [
    "midx = 1\n",
    "zidx = 0\n",
    "Z1 = z_all[midx][zidx]\n",
    "Z1"
   ]
  },
  {
   "cell_type": "code",
   "execution_count": 12,
   "metadata": {},
   "outputs": [
    {
     "name": "stdout",
     "output_type": "stream",
     "text": [
      "Z1= [-2.0, 4.0]\n"
     ]
    },
    {
     "data": {
      "text/plain": [
       "(array([[ 3.,  0., -1.,  0., -1.,  0.],\n",
       "        [ 0.,  3.,  0., -1.,  0., -1.],\n",
       "        [-1.,  0.,  2.,  0., -1.,  0.],\n",
       "        [ 0., -1.,  0.,  2.,  0., -1.],\n",
       "        [-1.,  0., -1.,  0.,  2.,  0.],\n",
       "        [ 0., -1.,  0., -1.,  0.,  2.]]), array([[ 12.],\n",
       "        [  6.],\n",
       "        [ -2.],\n",
       "        [  2.],\n",
       "        [  0.],\n",
       "        [  2.]]))"
      ]
     },
     "execution_count": 12,
     "metadata": {},
     "output_type": "execute_result"
    }
   ],
   "source": [
    "# update Z1 x\n",
    "print('Z1=', Z1)\n",
    "omega +=[[0, 0, 0, 0, 0, 0],\n",
    "         [0, 0, 0, 0, 0, 0],\n",
    "         [0, 0, 1, 0, -1, 0],\n",
    "         [0, 0, 0, 0, 0, 0],\n",
    "         [0, 0, -1, 0, 1, 0],\n",
    "         [0, 0, 0, 0, 0, 0]]\n",
    "xi += [[0],\n",
    "       [0],\n",
    "        [-Z1[0]],\n",
    "       [0],\n",
    "       [Z1[0]],\n",
    "       [0]]\n",
    "# update Z1 y\n",
    "omega +=[[0, 0, 0, 0, 0, 0],\n",
    "         [0, 0, 0, 0, 0, 0],\n",
    "         [0, 0, 0, 0, 0, 0],\n",
    "         [0, 0, 0, 1, 0, -1],\n",
    "         [0, 0, 0, 0, 0, 0],\n",
    "         [0, 0, 0, -1, 0, 1]]\n",
    "xi += [[0],\n",
    "       [0],\n",
    "       [0],\n",
    "       [-Z0[1]],\n",
    "       [0],\n",
    "       [Z0[1]]]\n",
    "omega, xi "
   ]
  },
  {
   "cell_type": "code",
   "execution_count": 13,
   "metadata": {},
   "outputs": [
    {
     "data": {
      "text/plain": [
       "matrix([[ 10.        ],\n",
       "        [ 10.        ],\n",
       "        [  8.66666667],\n",
       "        [ 12.        ],\n",
       "        [  9.33333333],\n",
       "        [ 12.        ]])"
      ]
     },
     "execution_count": 13,
     "metadata": {},
     "output_type": "execute_result"
    }
   ],
   "source": [
    "omega_inv = np.linalg.inv(np.matrix(omega))\n",
    "omega_inv*xi"
   ]
  },
  {
   "cell_type": "code",
   "execution_count": null,
   "metadata": {
    "scrolled": true
   },
   "outputs": [],
   "source": [
    "from robot_class import robot\n",
    "rr = robot(world_size, measurement_range, motion_noise, measurement_noise)\n",
    "rr.make_landmarks(num_landmarks)\n",
    "rr.sense()"
   ]
  },
  {
   "cell_type": "code",
   "execution_count": null,
   "metadata": {},
   "outputs": [],
   "source": [
    "[[56, 6], [31, 53], [56, 15], [20, 34], [11, 45]]\n",
    "[[50, 35], [79, 56], [7, 33], [14, 61], [61, 14]]\n",
    "[50.076, 34.604],[78.833, 55.807],[7.038, 32.658],[13.928, 60.749],[61.169, 13.723]"
   ]
  }
 ],
 "metadata": {
  "kernelspec": {
   "display_name": "Python 3",
   "language": "python",
   "name": "python3"
  },
  "language_info": {
   "codemirror_mode": {
    "name": "ipython",
    "version": 3
   },
   "file_extension": ".py",
   "mimetype": "text/x-python",
   "name": "python",
   "nbconvert_exporter": "python",
   "pygments_lexer": "ipython3",
   "version": "3.6.5"
  }
 },
 "nbformat": 4,
 "nbformat_minor": 2
}
